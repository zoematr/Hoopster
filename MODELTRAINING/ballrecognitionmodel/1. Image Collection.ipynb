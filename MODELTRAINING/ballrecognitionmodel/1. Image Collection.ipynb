{
 "cells": [
  {
   "cell_type": "markdown",
   "metadata": {},
   "source": [
    "# 1. Import Dependencies"
   ]
  },
  {
   "cell_type": "code",
   "execution_count": 1,
   "metadata": {
    "scrolled": true
   },
   "outputs": [
    {
     "name": "stdout",
     "output_type": "stream",
     "text": [
      "Collecting opencv-python\n",
      "  Using cached opencv_python-4.7.0.72-cp37-abi3-macosx_11_0_arm64.whl (32.6 MB)\n",
      "Collecting numpy>=1.21.2 (from opencv-python)\n",
      "  Downloading numpy-1.24.3-cp310-cp310-macosx_11_0_arm64.whl (13.9 MB)\n",
      "\u001b[2K     \u001b[90m━━━━━━━━━━━━━━━━━━━━━━━━━━━━━━━━━━━━━━━\u001b[0m \u001b[32m13.9/13.9 MB\u001b[0m \u001b[31m350.8 kB/s\u001b[0m eta \u001b[36m0:00:00\u001b[0m00:01\u001b[0m00:02\u001b[0m\n",
      "\u001b[?25hInstalling collected packages: numpy, opencv-python\n",
      "Successfully installed numpy-1.24.3 opencv-python-4.7.0.72\n"
     ]
    }
   ],
   "source": [
    "!pip install opencv-python"
   ]
  },
  {
   "cell_type": "code",
   "execution_count": 3,
   "metadata": {},
   "outputs": [],
   "source": [
    "# Import opencv\n",
    "import cv2 \n",
    "\n",
    "# Import uuid\n",
    "import uuid\n",
    "\n",
    "# Import Operating System\n",
    "import os\n",
    "\n",
    "# Import time\n",
    "import time"
   ]
  },
  {
   "cell_type": "markdown",
   "metadata": {},
   "source": [
    "# 2. Define Images to Collect"
   ]
  },
  {
   "cell_type": "code",
   "execution_count": 4,
   "metadata": {},
   "outputs": [],
   "source": [
    "labels = ['ball', 'hoop']\n",
    "number_imgs = 5"
   ]
  },
  {
   "cell_type": "markdown",
   "metadata": {},
   "source": [
    "# 3. Setup Folders "
   ]
  },
  {
   "cell_type": "code",
   "execution_count": 6,
   "metadata": {},
   "outputs": [],
   "source": [
    "IMAGES_PATH = os.path.join('Tensorflow', 'workspace', 'images', 'collectedimages')"
   ]
  },
  {
   "cell_type": "code",
   "execution_count": 7,
   "metadata": {
    "scrolled": true
   },
   "outputs": [
    {
     "name": "stdout",
     "output_type": "stream",
     "text": [
      "Tensorflow/workspace/images/collectedimages\n"
     ]
    }
   ],
   "source": [
    "print(IMAGES_PATH)"
   ]
  },
  {
   "cell_type": "code",
   "execution_count": 6,
   "metadata": {},
   "outputs": [
    {
     "data": {
      "text/plain": [
       "'posix'"
      ]
     },
     "execution_count": 6,
     "metadata": {},
     "output_type": "execute_result"
    }
   ],
   "source": [
    "os.name"
   ]
  },
  {
   "cell_type": "code",
   "execution_count": 8,
   "metadata": {},
   "outputs": [],
   "source": [
    "if not os.path.exists(IMAGES_PATH):\n",
    "    if os.name == 'posix':\n",
    "        !mkdir -p {IMAGES_PATH}\n",
    "    if os.name == 'nt':\n",
    "         !mkdir {IMAGES_PATH}\n",
    "for label in labels:\n",
    "    path = os.path.join(IMAGES_PATH, label)\n",
    "    if not os.path.exists(path):\n",
    "        !mkdir {path}"
   ]
  },
  {
   "cell_type": "markdown",
   "metadata": {},
   "source": [
    "# 4. Capture Images"
   ]
  },
  {
   "cell_type": "code",
   "execution_count": 9,
   "metadata": {},
   "outputs": [
    {
     "name": "stdout",
     "output_type": "stream",
     "text": [
      "Collecting images for ball\n",
      "Collecting image 0\n",
      "Collecting image 1\n",
      "Collecting image 2\n",
      "Collecting image 3\n",
      "Collecting image 4\n",
      "Collecting images for hoop\n",
      "Collecting image 0\n",
      "Collecting image 1\n",
      "Collecting image 2\n",
      "Collecting image 3\n",
      "Collecting image 4\n"
     ]
    }
   ],
   "source": [
    "for label in labels:\n",
    "    cap = cv2.VideoCapture(0)\n",
    "    print('Collecting images for {}'.format(label))\n",
    "    time.sleep(5)\n",
    "    for imgnum in range(number_imgs):\n",
    "        print('Collecting image {}'.format(imgnum))\n",
    "        ret, frame = cap.read()\n",
    "        imgname = os.path.join(IMAGES_PATH,label,label+'.'+'{}.jpg'.format(str(uuid.uuid1())))\n",
    "        cv2.imwrite(imgname, frame)\n",
    "        cv2.imshow('frame', frame)\n",
    "        time.sleep(2)\n",
    "\n",
    "        if cv2.waitKey(1) & 0xFF == ord('q'):\n",
    "            break\n",
    "cap.release()\n",
    "cv2.destroyAllWindows()"
   ]
  },
  {
   "cell_type": "code",
   "execution_count": 18,
   "metadata": {},
   "outputs": [],
   "source": [
    "label = 'ball'\n",
    "frame = cv2.imread('/Users/zoe/Downloads/WhatsApp Image 2023-05-22 at 15.38.51.jpeg')\n",
    "imgname = os.path.join(IMAGES_PATH,label,label+'.'+'{}.jpg'.format(str(uuid.uuid1())))\n",
    "cv2.imwrite(imgname, frame)\n",
    "cv2.imshow('frame', frame)"
   ]
  },
  {
   "cell_type": "markdown",
   "metadata": {},
   "source": [
    "# 5. Image Labelling"
   ]
  },
  {
   "cell_type": "code",
   "execution_count": 33,
   "metadata": {
    "scrolled": true
   },
   "outputs": [
    {
     "name": "stdout",
     "output_type": "stream",
     "text": [
      "Requirement already satisfied: pyqt6 in ./tfod/lib/python3.10/site-packages (6.5.0)\n",
      "Requirement already satisfied: lxml in ./tfod/lib/python3.10/site-packages (4.9.2)\n",
      "Requirement already satisfied: PyQt6-sip<14,>=13.4 in ./tfod/lib/python3.10/site-packages (from pyqt6) (13.5.1)\n",
      "Requirement already satisfied: PyQt6-Qt6>=6.5.0 in ./tfod/lib/python3.10/site-packages (from pyqt6) (6.5.0)\n"
     ]
    }
   ],
   "source": [
    "!pip3 install --upgrade pyqt6 lxml"
   ]
  },
  {
   "cell_type": "code",
   "execution_count": 39,
   "metadata": {},
   "outputs": [],
   "source": [
    "LABELIMG_PATH = os.path.join('Tensorflow', 'labelimg')"
   ]
  },
  {
   "cell_type": "code",
   "execution_count": 40,
   "metadata": {
    "scrolled": true
   },
   "outputs": [],
   "source": [
    "if not os.path.exists(LABELIMG_PATH):\n",
    "    !mkdir {LABELIMG_PATH}\n",
    "    #!git clone https://github.com/tzutalin/labelImg {LABELIMG_PATH}"
   ]
  },
  {
   "cell_type": "code",
   "execution_count": 41,
   "metadata": {
    "scrolled": true
   },
   "outputs": [
    {
     "name": "stdout",
     "output_type": "stream",
     "text": [
      "Requirement already satisfied: pyqt6 in ./tfod/lib/python3.10/site-packages (6.5.0)\n",
      "Requirement already satisfied: PyQt6-sip<14,>=13.4 in ./tfod/lib/python3.10/site-packages (from pyqt6) (13.5.1)\n",
      "Requirement already satisfied: PyQt6-Qt6>=6.5.0 in ./tfod/lib/python3.10/site-packages (from pyqt6) (6.5.0)\n",
      "Note: you may need to restart the kernel to use updated packages.\n"
     ]
    }
   ],
   "source": [
    "pip install pyqt6"
   ]
  },
  {
   "cell_type": "code",
   "execution_count": 43,
   "metadata": {},
   "outputs": [
    {
     "name": "stdout",
     "output_type": "stream",
     "text": [
      "Collecting PySide6\n",
      "  Downloading PySide6-6.5.0-cp37-abi3-macosx_10_9_universal2.whl (6.7 kB)\n",
      "Collecting shiboken6==6.5.0 (from PySide6)\n",
      "  Downloading shiboken6-6.5.0-cp37-abi3-macosx_10_9_universal2.whl (343 kB)\n",
      "\u001b[2K     \u001b[90m━━━━━━━━━━━━━━━━━━━━━━━━━━━━━━━━━━━━━━━\u001b[0m \u001b[32m343.3/343.3 kB\u001b[0m \u001b[31m5.1 MB/s\u001b[0m eta \u001b[36m0:00:00\u001b[0ma \u001b[36m0:00:01\u001b[0m\n",
      "\u001b[?25hCollecting PySide6-Essentials==6.5.0 (from PySide6)\n",
      "  Downloading PySide6_Essentials-6.5.0-cp37-abi3-macosx_10_9_universal2.whl (142.9 MB)\n",
      "\u001b[2K     \u001b[90m━━━━━━━━━━━━━━━━━━━━━━━━━━━━━━━━━━━━━━\u001b[0m \u001b[32m142.9/142.9 MB\u001b[0m \u001b[31m19.6 MB/s\u001b[0m eta \u001b[36m0:00:00\u001b[0m00:01\u001b[0m00:01\u001b[0m\n",
      "\u001b[?25hCollecting PySide6-Addons==6.5.0 (from PySide6)\n",
      "  Downloading PySide6_Addons-6.5.0-cp37-abi3-macosx_10_9_universal2.whl (248.5 MB)\n",
      "\u001b[2K     \u001b[90m━━━━━━━━━━━━━━━━━━━━━━━━━━━━━━━━━━━━━━\u001b[0m \u001b[32m248.5/248.5 MB\u001b[0m \u001b[31m12.3 MB/s\u001b[0m eta \u001b[36m0:00:00\u001b[0m00:01\u001b[0m00:01\u001b[0m\n",
      "\u001b[?25hInstalling collected packages: shiboken6, PySide6-Essentials, PySide6-Addons, PySide6\n",
      "Successfully installed PySide6-6.5.0 PySide6-Addons-6.5.0 PySide6-Essentials-6.5.0 shiboken6-6.5.0\n",
      "Note: you may need to restart the kernel to use updated packages.\n"
     ]
    }
   ],
   "source": [
    "pip install PySide6"
   ]
  },
  {
   "cell_type": "code",
   "execution_count": 44,
   "metadata": {
    "scrolled": true
   },
   "outputs": [
    {
     "name": "stdout",
     "output_type": "stream",
     "text": [
      "pyside6-rcc -o libs/resources.py resources.qrc\r\n"
     ]
    }
   ],
   "source": [
    "if os.name == 'posix':\n",
    "    !cd {LABELIMG_PATH} && make pyside6\n",
    "if os.name =='nt':\n",
    "    !cd {LABELIMG_PATH} && pyrcc5 -o libs/resources.py resources.qrc"
   ]
  },
  {
   "cell_type": "code",
   "execution_count": 46,
   "metadata": {
    "scrolled": false
   },
   "outputs": [
    {
     "name": "stdout",
     "output_type": "stream",
     "text": [
      "/Users/zoe/Desktop/ballrecognition/TFODCourse/Tensorflow/labelimg/labelImg.py:5: DeprecationWarning: The distutils package is deprecated and slated for removal in Python 3.12. Use setuptools or check PEP 632 for potential alternatives\n",
      "  import distutils.spawn\n",
      "2023-05-22 21:42:03.627 Python[23345:8389372] +[CATransaction synchronize] called within transaction\n",
      "2023-05-22 21:42:03.966 Python[23345:8389372] +[CATransaction synchronize] called within transaction\n",
      "darren add lable {<libs.hashableQListWidgetItem.HashableQListWidgetItem object at 0x12351b680>: <libs.shape.Shape object at 0x12344d780>}\n",
      "darren add item <libs.hashableQListWidgetItem.HashableQListWidgetItem object at 0x12351b680>\n",
      "darren add shape <libs.shape.Shape object at 0x12344d780>\n",
      "darren add lable {<libs.hashableQListWidgetItem.HashableQListWidgetItem object at 0x123524740>: <libs.shape.Shape object at 0x12344d780>}\n",
      "darren add item <libs.hashableQListWidgetItem.HashableQListWidgetItem object at 0x123524740>\n",
      "darren add shape <libs.shape.Shape object at 0x12344d780>\n",
      "2023-05-22 21:42:52.852 Python[23345:8389372] +[CATransaction synchronize] called within transaction\n",
      "2023-05-22 21:42:52.919 Python[23345:8389372] +[CATransaction synchronize] called within transaction\n",
      "Image:/Users/zoe/Desktop/ballrecognition/TFODCourse/Tensorflow/workspace/images/collectedimages/hoop/hoop.36f57196-f8a7-11ed-b779-a2106ce8a88c.jpg -> Annotation:/Users/zoe/Desktop/ballrecognition/TFODCourse/Tensorflow/workspace/images/collectedimages/hoop/hoop.36f57196-f8a7-11ed-b779-a2106ce8a88c.xml\n",
      "darren add lable {<libs.hashableQListWidgetItem.HashableQListWidgetItem object at 0x12342d7c0>: <libs.shape.Shape object at 0x12344d780>}\n",
      "darren add item <libs.hashableQListWidgetItem.HashableQListWidgetItem object at 0x12342d7c0>\n",
      "darren add shape <libs.shape.Shape object at 0x12344d780>\n",
      "2023-05-22 21:43:14.151 Python[23345:8389372] +[CATransaction synchronize] called within transaction\n",
      "2023-05-22 21:43:14.199 Python[23345:8389372] +[CATransaction synchronize] called within transaction\n",
      "Image:/Users/zoe/Desktop/ballrecognition/TFODCourse/Tensorflow/workspace/images/collectedimages/hoop/hoop.168ad248-f8a7-11ed-b779-a2106ce8a88c.jpg -> Annotation:/Users/zoe/Desktop/ballrecognition/TFODCourse/Tensorflow/workspace/images/collectedimages/hoop/hoop.168ad248-f8a7-11ed-b779-a2106ce8a88c.xml\n",
      "darren add lable {<libs.hashableQListWidgetItem.HashableQListWidgetItem object at 0x1235180c0>: <libs.shape.Shape object at 0x12344d780>}\n",
      "darren add item <libs.hashableQListWidgetItem.HashableQListWidgetItem object at 0x1235180c0>\n",
      "darren add shape <libs.shape.Shape object at 0x12344d780>\n",
      "2023-05-22 21:43:27.875 Python[23345:8389372] +[CATransaction synchronize] called within transaction\n",
      "2023-05-22 21:43:27.927 Python[23345:8389372] +[CATransaction synchronize] called within transaction\n",
      "Image:/Users/zoe/Desktop/ballrecognition/TFODCourse/Tensorflow/workspace/images/collectedimages/hoop/hoop.edfd4afe-f8a6-11ed-b779-a2106ce8a88c.jpg -> Annotation:/Users/zoe/Desktop/ballrecognition/TFODCourse/Tensorflow/workspace/images/collectedimages/hoop/hoop.edfd4afe-f8a6-11ed-b779-a2106ce8a88c.xml\n"
     ]
    }
   ],
   "source": [
    "!cd {LABELIMG_PATH} && python labelImg.py"
   ]
  },
  {
   "cell_type": "code",
   "execution_count": 1,
   "metadata": {},
   "outputs": [
    {
     "name": "stdout",
     "output_type": "stream",
     "text": [
      "/Users/zoe/desktop/ballrecognition/TFODCourse\r\n"
     ]
    }
   ],
   "source": [
    "!pwd"
   ]
  },
  {
   "cell_type": "markdown",
   "metadata": {},
   "source": [
    "# 6. Move them into a Training and Testing Partition"
   ]
  },
  {
   "cell_type": "markdown",
   "metadata": {},
   "source": [
    "# OPTIONAL - 7. Compress them for Colab Training"
   ]
  },
  {
   "cell_type": "code",
   "execution_count": 20,
   "metadata": {},
   "outputs": [],
   "source": [
    "TRAIN_PATH = os.path.join('Tensorflow', 'workspace', 'images', 'train')\n",
    "TEST_PATH = os.path.join('Tensorflow', 'workspace', 'images', 'test')\n",
    "ARCHIVE_PATH = os.path.join('Tensorflow', 'workspace', 'images', 'archive.tar.gz')"
   ]
  },
  {
   "cell_type": "code",
   "execution_count": 21,
   "metadata": {},
   "outputs": [],
   "source": [
    "!tar -czf {ARCHIVE_PATH} {TRAIN_PATH} {TEST_PATH}"
   ]
  },
  {
   "cell_type": "code",
   "execution_count": null,
   "metadata": {},
   "outputs": [],
   "source": []
  }
 ],
 "metadata": {
  "kernelspec": {
   "display_name": "tfod",
   "language": "python",
   "name": "tfod"
  },
  "language_info": {
   "codemirror_mode": {
    "name": "ipython",
    "version": 3
   },
   "file_extension": ".py",
   "mimetype": "text/x-python",
   "name": "python",
   "nbconvert_exporter": "python",
   "pygments_lexer": "ipython3",
   "version": "3.10.0"
  }
 },
 "nbformat": 4,
 "nbformat_minor": 2
}
